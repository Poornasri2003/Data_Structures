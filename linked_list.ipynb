{
 "cells": [
  {
   "cell_type": "markdown",
   "metadata": {},
   "source": [
    "A linked list is a linear data structure where each element, known as a node, is connected to the next one using pointers"
   ]
  },
  {
   "cell_type": "code",
   "execution_count": null,
   "metadata": {},
   "outputs": [],
   "source": [
    "class Node:\n",
    "    def __init__(self):\n",
    "        self.id=0\n",
    "        self.age=0\n",
    "        self.name=\"\"\n",
    "        self.clg=\"\"\n",
    "        self.next=None\n",
    "        \n",
    "    def create(self,id,age,name,clg):\n",
    "        self.id=id\n",
    "        self.age=age\n",
    "        self.name=name\n",
    "        self.clg=clg"
   ]
  },
  {
   "cell_type": "markdown",
   "metadata": {},
   "source": [
    "A class node is created to implement a linked list. init constructor initialise the node fields and the **create** method is used to populate the node with desired values\n",
    "\n",
    "### Node Creation\n",
    "\n",
    "1. node1 = Node() creates an object of the Node class.\n",
    "\n",
    "At this point, the __init__ method is automatically invoked, initializing the object fields (id, age, name, clg) with default values:\n",
    "id: 0\n",
    "age: 0\n",
    "name: Empty string \"\"\n",
    "clg: Empty string \"\"\n",
    "next: None \n",
    "\n",
    "2. Updating Node Values:\n",
    "\n",
    "The create method is called using node1.create(1, 20, \"John\", \"MIT\").\n",
    "This method updates the object's fields:\n",
    "id is set to 1.\n",
    "age is set to 20.\n",
    "name is updated to \"John\".\n",
    "clg is updated to \"MIT\".\n"
   ]
  },
  {
   "cell_type": "code",
   "execution_count": 28,
   "metadata": {},
   "outputs": [
    {
     "name": "stdout",
     "output_type": "stream",
     "text": [
      "Creating node1\n",
      "0 0  \n",
      "Values updated\n",
      "1 20 John MIT\n"
     ]
    }
   ],
   "source": [
    "node1=Node()\n",
    "print(\"Creating node1\")\n",
    "print(node1.id,node1.age,node1.name,node1.clg)\n",
    "print(\"Values updated\")\n",
    "node1.create(1,20,\"John\",\"MIT\")\n",
    "print(node1.id,node1.age,node1.name,node1.clg)"
   ]
  },
  {
   "cell_type": "code",
   "execution_count": 29,
   "metadata": {},
   "outputs": [
    {
     "name": "stdout",
     "output_type": "stream",
     "text": [
      "Creating node2\n",
      "0 0  \n",
      "2 21 Smith IIT\n"
     ]
    }
   ],
   "source": [
    "node2=Node()\n",
    "print(\"Creating node2\")\n",
    "print(node2.id,node2.age,node2.name,node2.clg)\n",
    "\n",
    "node2.create(2,21,\"Smith\",\"IIT\")\n",
    "print(node2.id,node2.age,node2.name,node2.clg)"
   ]
  },
  {
   "cell_type": "markdown",
   "metadata": {},
   "source": [
    "#### Node linking\n",
    "In a linked list there are two parts \n",
    "1. data\n",
    "2. pointer/linker stores the next node\n",
    "\n",
    "To link node1 to node2 >node1.next=node2"
   ]
  },
  {
   "cell_type": "code",
   "execution_count": 30,
   "metadata": {},
   "outputs": [],
   "source": [
    "node1.next=node2"
   ]
  },
  {
   "cell_type": "markdown",
   "metadata": {},
   "source": [
    "#### Analysis over the linked list in memory\n",
    "\n",
    "1. A memory can be of two parts **stack memory** and **heap memory**.\n",
    "2. **Stack Memory**\n",
    "    1. It stores the function call , local variables , and control flow information\n",
    "    2. The variables would only exist within the scope of a function or block and are destroyed after the function exits.\n",
    "    3. Example: node1, node2 are local variables\n",
    "3. **Heap Memory**\n",
    "    1. It stored **objects** which are being created\n",
    "    2. Heap implements the linked list and here pointer dereferencing occurs\n",
    "    3. Node object is created by node1 and node2 . Eventhough the node1 is stored in stack as a local variable the node1 holds the object of the class Node.\n",
    "    \n",
    "    In heap the size grows dynamically . \n",
    "    \n",
    "    On node1=Node()\n",
    "     1. The heap allocates  memory for the object\n",
    "     2. As a result of memory allocation of the object the object fields(id,age,clg,next,name) are stored in heap memory\n"
   ]
  },
  {
   "cell_type": "code",
   "execution_count": 31,
   "metadata": {},
   "outputs": [
    {
     "name": "stdout",
     "output_type": "stream",
     "text": [
      "address of Node1 2480930948496\n",
      "address of Node2 2480930955408\n",
      "Node1 =node()   <__main__.Node object at 0x00000241A3020590>\n",
      "Node2=node() <__main__.Node object at 0x00000241A3022090>\n"
     ]
    }
   ],
   "source": [
    "print(\"address of Node1\",id(node1))\n",
    "print(\"address of Node2\",id(node2))\n",
    "print(\"Node1 =node()  \",node1)\n",
    "print(\"Node2=node()\",node2)"
   ]
  },
  {
   "cell_type": "markdown",
   "metadata": {},
   "source": [
    "From the above it is clear that the node1 and node2 are different objects and they are not pointing to the same memory location.\n",
    "\n",
    "It is clearly seen that **node1 and node2  address are very close to each other since they are on the stack memory**.\n",
    "\n",
    "Also node 1 has the object address at heap"
   ]
  },
  {
   "cell_type": "code",
   "execution_count": 32,
   "metadata": {},
   "outputs": [
    {
     "name": "stdout",
     "output_type": "stream",
     "text": [
      "Node 1:\n",
      "node1 2480930948496\n",
      "ID:  140729323602728\n",
      "Age:  140729323603336\n",
      "Name:  2480930955888\n",
      "College:  2480930963248\n",
      "Next:  2480930955408\n",
      "Node 2:\n",
      "node2 2480930955408\n",
      "ID:  140729323602760\n",
      "Age:  140729323603368\n",
      "Name:  2480931012272\n",
      "College:  2480930954416\n",
      "Next:  140729322212112\n",
      "2480931481168\n"
     ]
    }
   ],
   "source": [
    "print(\"Node 1:\")\n",
    "print(\"node1\", id(node1))\n",
    "print(\"ID: \",id(node1.id))\n",
    "print(\"Age: \",id(node1.age))\n",
    "print(\"Name: \",id(node1.name))\n",
    "print(\"College: \",id(node1.clg))\n",
    "print(\"Next: \",id(node1.next))\n",
    "\n",
    "print(\"Node 2:\")\n",
    "print(\"node2\",id(node2))\n",
    "print(\"ID: \",id(node2.id))\n",
    "print(\"Age: \",id(node2.age))\n",
    "print(\"Name: \",id(node2.name))\n",
    "print(\"College: \",id(node2.clg))\n",
    "print(\"Next: \",id(node2.next))\n",
    "\n",
    "print(id(Node()))"
   ]
  },
  {
   "cell_type": "code",
   "execution_count": 34,
   "metadata": {},
   "outputs": [
    {
     "name": "stdout",
     "output_type": "stream",
     "text": [
      "2480931299536\n",
      "2480905885392\n"
     ]
    }
   ],
   "source": [
    "print(id(Node()))\n",
    "print(id(Node))"
   ]
  },
  {
   "cell_type": "code",
   "execution_count": 35,
   "metadata": {},
   "outputs": [
    {
     "name": "stdout",
     "output_type": "stream",
     "text": [
      "2480930948496 -> 2480930955408\n",
      "2480930955408 -> 140729322212112\n"
     ]
    }
   ],
   "source": [
    "print( id(node1) ,\"->\", id(node1.next))\n",
    "print(id(node2),\"->\",id(node2.next))"
   ]
  },
  {
   "cell_type": "code",
   "execution_count": 37,
   "metadata": {},
   "outputs": [
    {
     "name": "stdout",
     "output_type": "stream",
     "text": [
      "2480931745632\n"
     ]
    }
   ],
   "source": [
    "print(id(\"linked_list.ipynb\"))"
   ]
  }
 ],
 "metadata": {
  "kernelspec": {
   "display_name": "base",
   "language": "python",
   "name": "python3"
  },
  "language_info": {
   "codemirror_mode": {
    "name": "ipython",
    "version": 3
   },
   "file_extension": ".py",
   "mimetype": "text/x-python",
   "name": "python",
   "nbconvert_exporter": "python",
   "pygments_lexer": "ipython3",
   "version": "3.11.7"
  }
 },
 "nbformat": 4,
 "nbformat_minor": 2
}
