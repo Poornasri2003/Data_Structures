{
 "cells": [
  {
   "cell_type": "code",
   "execution_count": 2,
   "metadata": {},
   "outputs": [],
   "source": [
    "class Node:\n",
    "    def __init__(self):\n",
    "        self.id=0\n",
    "        self.age=0\n",
    "        self.name=\"\"\n",
    "        self.clg=\"\"\n",
    "        self.next=None\n",
    "        \n",
    "    def create(self,id,age,name,clg):\n",
    "        self.id=id\n",
    "        self.age=age\n",
    "        self.name=name\n",
    "        self.clg=clg"
   ]
  },
  {
   "cell_type": "markdown",
   "metadata": {},
   "source": [
    "A class node is created to implement a linked list. init constructor initialise the node fields and the **create** method is used to populate the node with desired values\n",
    "\n",
    "### Node Creation\n",
    "\n",
    "1. node1 = Node() creates an object of the Node class.\n",
    "\n",
    "At this point, the __init__ method is automatically invoked, initializing the object fields (id, age, name, clg) with default values:\n",
    "id: 0\n",
    "age: 0\n",
    "name: Empty string \"\"\n",
    "clg: Empty string \"\"\n",
    "next: None \n",
    "\n",
    "2. Updating Node Values:\n",
    "\n",
    "The create method is called using node1.create(1, 20, \"John\", \"MIT\").\n",
    "This method updates the object's fields:\n",
    "id is set to 1.\n",
    "age is set to 20.\n",
    "name is updated to \"John\".\n",
    "clg is updated to \"MIT\".\n"
   ]
  },
  {
   "cell_type": "code",
   "execution_count": 4,
   "metadata": {},
   "outputs": [
    {
     "name": "stdout",
     "output_type": "stream",
     "text": [
      "Creating node1\n",
      "0 0  \n",
      "Values updated\n",
      "1 20 John MIT\n"
     ]
    }
   ],
   "source": [
    "node1=Node()\n",
    "print(\"Creating node1\")\n",
    "print(node1.id,node1.age,node1.name,node1.clg)\n",
    "print(\"Values updated\")\n",
    "node1.create(1,20,\"John\",\"MIT\")\n",
    "print(node1.id,node1.age,node1.name,node1.clg)"
   ]
  },
  {
   "cell_type": "code",
   "execution_count": 7,
   "metadata": {},
   "outputs": [
    {
     "name": "stdout",
     "output_type": "stream",
     "text": [
      "Creating node2\n",
      "0 0  \n",
      "2 21 Smith IIT\n"
     ]
    }
   ],
   "source": [
    "node2=Node()\n",
    "print(\"Creating node2\")\n",
    "print(node2.id,node2.age,node2.name,node2.clg)\n",
    "\n",
    "node2.create(2,21,\"Smith\",\"IIT\")\n",
    "print(node2.id,node2.age,node2.name,node2.clg)"
   ]
  }
 ],
 "metadata": {
  "kernelspec": {
   "display_name": "base",
   "language": "python",
   "name": "python3"
  },
  "language_info": {
   "codemirror_mode": {
    "name": "ipython",
    "version": 3
   },
   "file_extension": ".py",
   "mimetype": "text/x-python",
   "name": "python",
   "nbconvert_exporter": "python",
   "pygments_lexer": "ipython3",
   "version": "3.11.7"
  }
 },
 "nbformat": 4,
 "nbformat_minor": 2
}
